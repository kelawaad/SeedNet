{
 "cells": [
  {
   "cell_type": "markdown",
   "metadata": {
    "colab_type": "text",
    "heading_collapsed": true,
    "id": "-PUlr29BwQo7"
   },
   "source": [
    "# Download Data"
   ]
  },
  {
   "cell_type": "code",
   "execution_count": 1,
   "metadata": {
    "ExecuteTime": {
     "end_time": "2019-06-21T13:57:48.463176Z",
     "start_time": "2019-06-21T13:57:48.459290Z"
    },
    "colab": {
     "base_uri": "https://localhost:8080/",
     "height": 290
    },
    "colab_type": "code",
    "hidden": true,
    "id": "viyaQR9UwIIO",
    "outputId": "ed86fc33-3ff7-4c98-92de-b93a9717e312"
   },
   "outputs": [],
   "source": [
    "# !wget --header=\"Host: mftp.mmcheng.net\" --header=\"User-Agent: Mozilla/5.0 (Windows NT 10.0; Win64; x64) AppleWebKit/537.36 (KHTML, like Gecko) Chrome/74.0.3729.131 Safari/537.36\" --header=\"Accept: text/html,application/xhtml+xml,application/xml;q=0.9,image/webp,image/apng,*/*;q=0.8,application/signed-exchange;v=b3\" --header=\"Accept-Language: en-US,en;q=0.9,ar;q=0.8\" \"http://mftp.mmcheng.net/Data/MSRA10K_Imgs_GT.zip\" -O \"MSRA10K_Imgs_GT.zip\" -c\n",
    "# !mkdir MSRA_Dataset\n",
    "# !mv MSRA10K_Imgs_GT.zip MSRA_Dataset/MSRA10K_Imgs_GT.zip\n",
    "# %cd MSRA_Dataset\n",
    "# !unzip -qq MSRA10K_Imgs_GT.zip\n",
    "# !rm MSRA_10K_Imgs_GT.zip\n",
    "# !ls\n",
    "# %cd .."
   ]
  },
  {
   "cell_type": "markdown",
   "metadata": {
    "colab_type": "text",
    "heading_collapsed": true,
    "id": "_3NizssxzytC"
   },
   "source": [
    "# Imports"
   ]
  },
  {
   "cell_type": "code",
   "execution_count": 5,
   "metadata": {
    "ExecuteTime": {
     "end_time": "2019-06-21T13:59:17.869856Z",
     "start_time": "2019-06-21T13:58:25.381796Z"
    },
    "colab": {},
    "colab_type": "code",
    "hidden": true,
    "id": "BKTJK1vJy1yj"
   },
   "outputs": [
    {
     "name": "stderr",
     "output_type": "stream",
     "text": [
      "Matplotlib is building the font cache using fc-list. This may take a moment.\n"
     ]
    }
   ],
   "source": [
    "import numpy as np\n",
    "\n",
    "from enum import Enum\n",
    "\n",
    "import cv2 as cv\n",
    "from pathlib import Path\n",
    "import matplotlib.pyplot as plt\n",
    "from tqdm import tqdm\n",
    "\n",
    "from skimage import measure\n",
    "from skimage.segmentation import random_walker\n",
    "\n",
    "import scipy\n",
    "from skimage import data, filters"
   ]
  },
  {
   "cell_type": "markdown",
   "metadata": {
    "colab_type": "text",
    "heading_collapsed": true,
    "id": "MnMrVJ_zz0tn"
   },
   "source": [
    "# Load Data"
   ]
  },
  {
   "cell_type": "code",
   "execution_count": 6,
   "metadata": {
    "ExecuteTime": {
     "end_time": "2019-06-21T13:59:23.277501Z",
     "start_time": "2019-06-21T13:59:23.266410Z"
    },
    "colab": {},
    "colab_type": "code",
    "hidden": true,
    "id": "ea3Zlf6Yx6vO"
   },
   "outputs": [],
   "source": [
    "class Seed(Enum):\n",
    "  B = 1\n",
    "  F = 2\n",
    "  \n",
    "class Region(Enum):\n",
    "  SF = 10\n",
    "  WF = 80\n",
    "  WB = 160\n",
    "  SB = 240\n",
    "\n",
    "def load_data(path):\n",
    "  masks  = {}\n",
    "  images = {}\n",
    "  for l in tqdm(list(path.glob('*.png'))):\n",
    "    id = l.parts[-1].split('.')[0]\n",
    "    mask = cv.imread(str(l))\n",
    "    masks[int(id)] = mask\n",
    "    \n",
    "  for l in tqdm(list(path.glob('*.jpg'))):\n",
    "    id = l.parts[-1].split('.')[0]\n",
    "    image = cv.imread(str(l))\n",
    "    images[int(id)] = image\n",
    "    \n",
    "  ids = sorted(list(images.keys()))\n",
    "  images_, masks_ = [], []\n",
    "  for id in ids:\n",
    "    images_.append(images[id])\n",
    "    masks_.append(masks[id])\n",
    "    \n",
    "  return images_, masks_\n",
    "\n",
    "def resize_data(images, masks, new_size=(84,84)):\n",
    "  for i, (image, mask) in enumerate(zip(images, masks)):\n",
    "    images[i] = cv.resize(image, new_size)\n",
    "    masks[i]  = cv.resize(mask, new_size)\n",
    "    \n",
    "  return images, masks\n",
    "\n",
    "\n",
    "\n",
    "def create_seed_mask(center, value=Seed.B, diameter=3, size=(84, 84)):\n",
    "  '''\n",
    "  Takes coordinates and type of seed point, diameter and image size and returns an\n",
    "  image of the same size containing the value (Seed.F or Seed.B) in the pixels\n",
    "  forming the seed points\n",
    "  \n",
    "  params\n",
    "  ---------\n",
    "  center:    (row, col) tuple\n",
    "             Center pixel of the seed points\n",
    "  \n",
    "  value:     {Seed.F, Seed.B} enum\n",
    "             Type of the seed point either F (Foreground) / B (Background)\n",
    "  \n",
    "  diameter:  int\n",
    "             Diameter of the seed point in pixels (3 at train time / 13 at test time)\n",
    "  \n",
    "  size:      tuple\n",
    "             Size of the resulting mask\n",
    "  '''\n",
    "  value = value.value\n",
    "  grid = np.meshgrid(np.arange(size[0]), np.arange(size[1]))\n",
    "  sum_grid = (grid[0] - center[1]) ** 2 + (grid[1] - center[0]) ** 2\n",
    "  idxs = np.where((sum_grid) <= (diameter/2)**2)\n",
    "  seed_image = np.zeros_like(image)\n",
    "  seed_image[idxs] = value\n",
    "  return seed_image\n",
    "\n",
    "def merge_seed_masks(masks):\n",
    "  final_result = np.zeros_like(masks[0])\n",
    "  for mask in masks:\n",
    "    final_result += mask\n",
    "  final_result[final_result >= 3] = 2\n",
    "  \n",
    "  return final_result\n",
    "\n",
    "def calculate_IoU(mask1, mask2):\n",
    "  if len(mask1.shape) > 2:\n",
    "    mask1 = mask1[:,:,0]\n",
    "    \n",
    "  if len(mask2.shape) > 2:\n",
    "    mask2 = mask2[:,:,0]\n",
    "  \n",
    "  idxs1 = np.where(mask1 > 0)\n",
    "  idxs2 = np.where(mask2 > 0)\n",
    "  \n",
    "  idxs1 = set([(x, y) for x, y in zip(idxs1[0], idxs1[1])])\n",
    "  idxs2 = set([(x, y) for x, y in zip(idxs2[0], idxs2[1])])\n",
    "  \n",
    "  intersection = len(idxs1.intersection(idxs2))\n",
    "  union        = len(idxs1.union(idxs2))\n",
    "  \n",
    "  \n",
    "  return intersection/union"
   ]
  },
  {
   "cell_type": "code",
   "execution_count": 7,
   "metadata": {
    "ExecuteTime": {
     "end_time": "2019-06-21T13:59:53.313576Z",
     "start_time": "2019-06-21T13:59:23.457158Z"
    },
    "colab": {
     "base_uri": "https://localhost:8080/",
     "height": 108
    },
    "colab_type": "code",
    "hidden": true,
    "id": "r7sDD1QkzBI3",
    "outputId": "2de9ff65-fdc9-4ef3-c401-d0e9c0c7bc25"
   },
   "outputs": [
    {
     "name": "stderr",
     "output_type": "stream",
     "text": [
      "100%|██████████| 10000/10000 [00:16<00:00, 612.74it/s]\n",
      "100%|██████████| 10000/10000 [00:13<00:00, 745.00it/s]"
     ]
    },
    {
     "name": "stdout",
     "output_type": "stream",
     "text": [
      "\n",
      "\n",
      "The data contains 10000 images\n"
     ]
    },
    {
     "name": "stderr",
     "output_type": "stream",
     "text": [
      "\n"
     ]
    }
   ],
   "source": [
    "path = Path('./MSRA_Dataset/MSRA10K_Imgs_GT/Imgs/')\n",
    "images, masks = load_data(path)\n",
    "print(f'\\nThe data contains {len(images)} images')"
   ]
  },
  {
   "cell_type": "code",
   "execution_count": 8,
   "metadata": {
    "ExecuteTime": {
     "end_time": "2019-06-21T14:00:01.210828Z",
     "start_time": "2019-06-21T13:59:58.050236Z"
    },
    "colab": {
     "base_uri": "https://localhost:8080/",
     "height": 35
    },
    "colab_type": "code",
    "hidden": true,
    "id": "jfSP8r7Ec7q1",
    "outputId": "4a4035cf-fe4a-4ef5-96a7-dffac66553c8"
   },
   "outputs": [
    {
     "name": "stdout",
     "output_type": "stream",
     "text": [
      "(10000, 84, 84, 3) (10000, 84, 84)\n"
     ]
    }
   ],
   "source": [
    "images, masks = resize_data(images, masks)\n",
    "images = np.array(images)\n",
    "masks  = np.array(masks)[:,:,:,0]\n",
    "masks[masks>0] = 255\n",
    "\n",
    "print(images.shape, masks.shape)"
   ]
  },
  {
   "cell_type": "code",
   "execution_count": 9,
   "metadata": {
    "ExecuteTime": {
     "end_time": "2019-06-21T14:00:19.407450Z",
     "start_time": "2019-06-21T14:00:17.165642Z"
    },
    "colab": {
     "base_uri": "https://localhost:8080/",
     "height": 625
    },
    "colab_type": "code",
    "hidden": true,
    "id": "UYdalFoqQe1I",
    "outputId": "e6e67141-1f07-4df3-d4f2-430de70aa9f0"
   },
   "outputs": [
    {
     "data": {
      "text/plain": [
       "Text(0.5, 1.0, 'Seeds used for mask generation using random walker')"
      ]
     },
     "execution_count": 9,
     "metadata": {},
     "output_type": "execute_result"
    },
    {
     "data": {
      "image/png": "[encoded data removed]",
      "text/plain": [
       "<Figure size 720x720 with 4 Axes>"
      ]
     },
     "metadata": {},
     "output_type": "display_data"
    }
   ],
   "source": [
    "idx=6262\n",
    "fig, axs = plt.subplots(2, 2, figsize=(10, 10))\n",
    "axs[0][0].imshow(images[idx])\n",
    "axs[0][0].set_title('Original Image')\n",
    "axs[0][1].imshow(masks[idx])\n",
    "axs[0][1].set_title('Ground Truth Mask')\n",
    "\n",
    "image = images[idx]\n",
    "mask1 = create_seed_mask((18, 25), value=Seed.F)\n",
    "mask2 = create_seed_mask((34, 63), value=Seed.F)\n",
    "mask3 = create_seed_mask((12, 30), value=Seed.F)\n",
    "mask4 = create_seed_mask((33, 63), value=Seed.F)\n",
    "mask5 = create_seed_mask((11, 25), value=Seed.F)\n",
    "mask6 = create_seed_mask((65, 53), value=Seed.B)\n",
    "mask7 = create_seed_mask((20, 82), value=Seed.B)\n",
    "mask8 = create_seed_mask((3, 11), value=Seed.B)\n",
    "mask9 = create_seed_mask((76, 18), value=Seed.B)\n",
    "mask10 = create_seed_mask((60, 83), value=Seed.B)\n",
    "mask11 = create_seed_mask((40, 40), value=Seed.F)\n",
    "mask12 = create_seed_mask((40, 20), value=Seed.B)\n",
    "mask13 = create_seed_mask((32, 25), value=Seed.F)\n",
    "mask14 = create_seed_mask((0, 50), value=Seed.B)\n",
    "mask15 = create_seed_mask((10, 55), value=Seed.F)\n",
    "mask16 = create_seed_mask((12, 17), value=Seed.B)\n",
    "mask17 = create_seed_mask((25, 17), value=Seed.B)\n",
    "\n",
    "final_mask = merge_seed_masks([mask1, mask2, mask3, mask4, mask5, mask6, mask7, mask8, mask9, mask10, mask11, mask12, mask13, mask14, mask15, mask16, mask17])\n",
    "results = random_walker(image, final_mask, beta=150)\n",
    "results[results!=Seed.F.value] = 0\n",
    "\n",
    "axs[1][0].imshow(images[idx])\n",
    "axs[1][0].imshow(results*100, alpha=0.8)\n",
    "axs[1][0].imshow(final_mask*100,alpha=0.4)\n",
    "axs[1][0].set_title('Generated Mask')\n",
    "axs[1][1].imshow(final_mask*100)\n",
    "axs[1][1].imshow(masks[idx], alpha=0.4, cmap='gray')\n",
    "axs[1][1].set_title('Seeds used for mask generation using random walker')"
   ]
  },
  {
   "cell_type": "markdown",
   "metadata": {
    "colab_type": "text",
    "heading_collapsed": true,
    "id": "_JSHLD3cQTzc"
   },
   "source": [
    "# Image Regions for Reward Calculation"
   ]
  },
  {
   "cell_type": "markdown",
   "metadata": {
    "colab_type": "text",
    "heading_collapsed": true,
    "hidden": true,
    "id": "2gGaZQNLjfgm"
   },
   "source": [
    "## Retarded Method"
   ]
  },
  {
   "cell_type": "code",
   "execution_count": 10,
   "metadata": {
    "ExecuteTime": {
     "end_time": "2019-06-21T14:00:23.842127Z",
     "start_time": "2019-06-21T14:00:23.784235Z"
    },
    "colab": {},
    "colab_type": "code",
    "hidden": true,
    "id": "LJUXBy5NUZ5Z"
   },
   "outputs": [],
   "source": [
    "def get_image_gradients(image, degrees=True):\n",
    "  sobelx = cv.Sobel(image,cv.CV_64F,1,0,ksize=5)\n",
    "  sobely = cv.Sobel(image,cv.CV_64F,0,1,ksize=5)\n",
    "  gradient = np.arctan2(sobely, sobelx)\n",
    "  if degrees:\n",
    "    gradient = gradient * 180 / np.pi\n",
    "    \n",
    "  return gradient\n",
    "  \n",
    "\n",
    "def get_points_on_line(point, angle, size=(84, 84)):\n",
    "  x, y = point\n",
    "  slope = np.tan((angle) * np.pi/180)\n",
    "  intercept = x - y * slope\n",
    "\n",
    "  grid = np.meshgrid(np.arange(size[0]), np.arange(size[1]))\n",
    "\n",
    "  result = (grid[0] * slope + intercept) - grid[1]\n",
    "\n",
    "  tmp1 = np.zeros(size)\n",
    "  tmp1[np.abs(result) < 0.2] = 255\n",
    "  \n",
    "  \n",
    "  return tmp1\n",
    "\n",
    "def get_points_within_range(line, point, depth):\n",
    "  x, y = point\n",
    "  idxs = np.where(line == 255)\n",
    "  valid_pts = ((idxs[0] - x) ** 2 +(idxs[1] - y) ** 2) < (depth ** 2)\n",
    "  idxs = (idxs[0][valid_pts], idxs[1][valid_pts])\n",
    "  tmp1 = np.zeros_like(line)\n",
    "  tmp1[idxs] = 255\n",
    "\n",
    "  return tmp1, idxs\n",
    "\n",
    "def get_points_in_same_direction(point, indices, angle, thresh=3):\n",
    "  x, y = point\n",
    "  angles = np.arctan2((indices[0] - x), (indices[1] - y)) * 180 / np.pi\n",
    "  angles[angles < 0] = angles[angles < 0] + 360\n",
    "  \n",
    "  idxs2 = np.where(np.abs(angles - angle) < thresh)\n",
    "  indices = (indices[0][idxs2], indices[1][idxs2]) \n",
    "  \n",
    "  return indices\n",
    "\n",
    "def get_points_in_opposite_direction(point, indices, angle, thresh=3):\n",
    "  x, y = point\n",
    "  angles = np.arctan2((indices[0] - x), (indices[1] - y)) * 180 / np.pi\n",
    "  angles[angles < 0] = angles[angles < 0] + 360\n",
    "  idxs2 = np.where(np.abs(np.abs(angles - angle) - 180) < thresh)\n",
    "  indices = (indices[0][idxs2], indices[1][idxs2]) \n",
    "  \n",
    "  return indices\n",
    "\n",
    "def get_WF_region_indices(point, gradient, depth):\n",
    "  x, y = point\n",
    "  angle = -gradient[x, y]\n",
    "  \n",
    "  if angle < 0:\n",
    "    angle += 360\n",
    "  \n",
    "  line = get_points_on_line(point, angle)\n",
    "  points_within_range, indices = get_points_within_range(line, point, depth)\n",
    "  indices = get_points_in_same_direction(point, indices, angle)\n",
    "    \n",
    "  return indices\n",
    "\n",
    "def get_WB_region_indices(point, gradients, depth):\n",
    "  x, y = point\n",
    "  angle = -gradients[x, y]\n",
    "  \n",
    "  if angle < 0:\n",
    "    angle += 360\n",
    "  \n",
    "    \n",
    "  line = get_points_on_line(point, angle)\n",
    "  \n",
    "  points_within_range, indices = get_points_within_range(line, point, depth)\n",
    "  indices = get_points_in_opposite_direction(point, indices, angle)\n",
    "    \n",
    "  return indices\n",
    "\n",
    "def get_mask_WB_region(mask, depth, value=255):\n",
    "  mask = mask.copy()\n",
    "  mask[mask > 0] = 255\n",
    "  edges = cv.Canny(mask, 100, 200)\n",
    "  gradient = get_image_gradients(mask)\n",
    "  \n",
    "  WB_region = np.zeros_like(mask)\n",
    "  \n",
    "  \n",
    "  indices_to_loop = np.where(edges != 0)\n",
    "\n",
    "  for x, y in zip(indices_to_loop[0], indices_to_loop[1]):\n",
    "    indices = get_SB_region_indices((x, y), gradient, depth)\n",
    "    WB_region[indices] = value\n",
    "    WB_region[x, y]    = value\n",
    "    \n",
    "  fltr = np.array([[1, 1, 1],\n",
    "                  [1, 1, 1],\n",
    "                  [1, 1, 1]], dtype='float32') / 9\n",
    "  \n",
    "  WB_region_filtered = scipy.signal.convolve2d(WB_region[:, :, 0], fltr, 'same')\n",
    "  WB_region_filtered = np.round(WB_region_filtered)\n",
    "\n",
    "  WB_region_filtered *= 255\n",
    "  WB_region_filtered[WB_region_filtered > 255] = 255\n",
    "    \n",
    "  return WB_region_filtered\n",
    "\n",
    "def get_mask_WF_region(mask, depth, value=1):\n",
    "  mask = mask.copy()\n",
    "  mask[mask > 0] = 255\n",
    "  edges = cv.Canny(mask, 100, 200)\n",
    "  gradient = get_image_gradients(mask)\n",
    "  \n",
    "  WF_region = np.zeros_like(mask)\n",
    "\n",
    "  indices_to_loop = np.where(edges != 0)\n",
    "\n",
    "  for x, y in zip(indices_to_loop[0], indices_to_loop[1]):\n",
    "    indices = get_WF_region_indices((x, y), gradient, depth)\n",
    "    WF_region[indices] = value\n",
    "    WF_region[x, y]    = value\n",
    "    \n",
    "  fltr = np.array([[1, 1, 1],\n",
    "                  [1, 1, 1],\n",
    "                  [1, 1, 1]], dtype='float32') / 9\n",
    "  \n",
    "  WF_region_filtered = scipy.signal.convolve2d(WF_region[:, :, 0], fltr, 'same')\n",
    "  WF_region_filtered = np.round(WF_region_filtered)\n",
    "\n",
    "  WF_region_filtered *= 255\n",
    "  WF_region_filtered[WF_region_filtered > 255] = 255\n",
    "  return WF_region_filtered\n",
    "\n",
    "def get_all_regions(mask):\n",
    "  \n",
    "  final_FW = np.zeros_like(mask)\n",
    "  final_BW = np.zeros_like(mask)\n",
    "  \n",
    "  \n",
    "  WF_region = get_mask_WF_region(mask, depth=1, value=Region.WF.value)\n",
    "  _, SF_region = cv.threshold(mask,127,255,cv.THRESH_BINARY)\n",
    "  SF_region[SF_region != 0] = Region.SF.value\n",
    "  \n",
    "  \n",
    "  final_FW = SF_region.copy()\n",
    "  idxs1 = np.where(WF_region != 0)\n",
    "  final_FW[idxs1] = WF_region[idxs1]\n",
    "  \n",
    "  WB_region = get_mask_WB_region(mask, depth=1, value=Region.WB.value)\n",
    "  _, SB_region = cv.threshold(mask,127,255,cv.THRESH_BINARY_INV)\n",
    "  SB_region[SB_region != 0] = Region.SB.value\n",
    "  \n",
    "  final_BW = SB_region.copy()\n",
    "  idxs2 = np.where(WB_region != 0)\n",
    "  final_BW[idxs2] = WB_region[idxs2]\n",
    "  print(np.sum(idxs1))\n",
    "  print(np.sum(idxs2))\n",
    "  fig, axs = plt.subplots(1, 2)\n",
    "  axs[0].imshow(final_FW)\n",
    "  axs[1].imshow(final_BW)"
   ]
  },
  {
   "cell_type": "code",
   "execution_count": 13,
   "metadata": {
    "ExecuteTime": {
     "end_time": "2019-06-21T14:00:34.405562Z",
     "start_time": "2019-06-21T14:00:34.402964Z"
    },
    "colab": {},
    "colab_type": "code",
    "hidden": true,
    "id": "2kQAWpee7TXk"
   },
   "outputs": [],
   "source": [
    "# get_all_regions(mask)"
   ]
  },
  {
   "cell_type": "code",
   "execution_count": 14,
   "metadata": {
    "ExecuteTime": {
     "end_time": "2019-06-21T14:00:52.071475Z",
     "start_time": "2019-06-21T14:00:52.068755Z"
    },
    "colab": {},
    "colab_type": "code",
    "hidden": true,
    "id": "Ae3pXq1rnUnr"
   },
   "outputs": [],
   "source": [
    "# idx= 6561\n",
    "# image = images[idx]\n",
    "# mask = masks[idx]\n",
    "# WB_region = get_mask_WB_region(mask, depth=3, value=255)\n",
    "# WF_region = get_mask_WF_region(mask, depth=3, value=255)\n",
    "\n",
    "# fig, axs = plt.subplots(1, 2, figsize=(10, 10))\n",
    "\n",
    "# axs[0].imshow(image)\n",
    "\n",
    "# # axs[1].imshow(image)\n",
    "# axs[1].imshow(mask[:,:,0],alpha=0.5)\n",
    "# axs[1].imshow(WF_region, alpha=0.5, cmap='gray')\n",
    "# axs[1].imshow(WB_region, alpha=0.5, cmap='jet')\n"
   ]
  },
  {
   "cell_type": "markdown",
   "metadata": {
    "colab_type": "text",
    "hidden": true,
    "id": "76eQmvvYaTTf"
   },
   "source": [
    "## Smart Method"
   ]
  },
  {
   "cell_type": "code",
   "execution_count": 15,
   "metadata": {
    "ExecuteTime": {
     "end_time": "2019-06-21T14:00:53.303807Z",
     "start_time": "2019-06-21T14:00:53.298368Z"
    },
    "colab": {},
    "colab_type": "code",
    "hidden": true,
    "id": "77tCQtaH4xD_"
   },
   "outputs": [],
   "source": [
    "def get_image_different_regions(mask, threshold=1.5):\n",
    "  if len(mask.shape) > 2:\n",
    "    mask = mask[:,:,0]\n",
    "\n",
    "  mask[mask != 0] = 255\n",
    "  edges = cv.Canny(mask, 100, 200)\n",
    "  dist = cv.distanceTransform(~edges, distanceType=cv.DIST_L2, maskSize=cv.DIST_MASK_PRECISE)\n",
    "  \n",
    "  all_regions = np.zeros_like(mask)\n",
    "  all_regions[(dist>=threshold) & (mask==255)] = Region.SF.value   # sf\n",
    "  all_regions[(dist<threshold) & (mask==255)]  = Region.WF.value   # wf\n",
    "  all_regions[(dist>=threshold) & (mask==0)]   = Region.SB.value   # sb\n",
    "  all_regions[(dist<threshold) & (mask==0)]    = Region.WB.value   # wb\n",
    "  \n",
    "  return all_regions\n",
    "\n",
    "def get_all_different_regions(masks, threshold=1.5):\n",
    "  if len(masks.shape) > 3:\n",
    "    masks = masks[:,:,:,0]\n",
    "    \n",
    "  all_masks_with_regions = masks.copy()\n",
    "  \n",
    "  for i in range(masks.shape[0]):\n",
    "    mask = masks[i]\n",
    "    all_masks_with_regions[i] = get_image_different_regions(mask, threshold=threshold)\n",
    "\n",
    "  return all_masks_with_regions"
   ]
  },
  {
   "cell_type": "code",
   "execution_count": 16,
   "metadata": {
    "ExecuteTime": {
     "end_time": "2019-06-21T14:00:57.647487Z",
     "start_time": "2019-06-21T14:00:54.543479Z"
    },
    "colab": {},
    "colab_type": "code",
    "hidden": true,
    "id": "4Drjc9tQaKvF"
   },
   "outputs": [],
   "source": [
    "all_masks_with_regions = get_all_different_regions(masks, threshold=2)"
   ]
  },
  {
   "cell_type": "code",
   "execution_count": 17,
   "metadata": {
    "ExecuteTime": {
     "end_time": "2019-06-21T14:00:58.216094Z",
     "start_time": "2019-06-21T14:00:57.649326Z"
    },
    "colab": {
     "base_uri": "https://localhost:8080/",
     "height": 235
    },
    "colab_type": "code",
    "hidden": true,
    "id": "fJye9ONUaRCU",
    "outputId": "ff5ef47a-aea8-4bde-e35d-7740b35ff739"
   },
   "outputs": [
    {
     "data": {
      "text/plain": [
       "<matplotlib.image.AxesImage at 0x7f55ce956c18>"
      ]
     },
     "execution_count": 17,
     "metadata": {},
     "output_type": "execute_result"
    },
    {
     "data": {
      "image/png": "[encoded data removed]",
      "text/plain": [
       "<Figure size 720x720 with 3 Axes>"
      ]
     },
     "metadata": {},
     "output_type": "display_data"
    }
   ],
   "source": [
    "fig, axs = plt.subplots(1, 3, figsize=(10,10))\n",
    "idx = 6262\n",
    "axs[0].imshow(images[idx])\n",
    "axs[1].imshow(masks[idx], cmap='gray')\n",
    "axs[2].imshow(all_masks_with_regions[idx], cmap='hot')"
   ]
  },
  {
   "cell_type": "markdown",
   "metadata": {
    "colab_type": "text",
    "hidden": true,
    "id": "gmBOZ8Y5WfmZ"
   },
   "source": [
    "## Paper method (Dilation & Erosion)"
   ]
  },
  {
   "cell_type": "code",
   "execution_count": 18,
   "metadata": {
    "ExecuteTime": {
     "end_time": "2019-06-21T14:01:01.999890Z",
     "start_time": "2019-06-21T14:01:01.991563Z"
    },
    "colab": {},
    "colab_type": "code",
    "hidden": true,
    "id": "A1LsI7ZHahLG"
   },
   "outputs": [],
   "source": [
    "def get_image_different_regions(mask, kernel_size, debug=True):\n",
    "  kernel = np.ones(kernel_size ,np.uint8)\n",
    "  eroded  = cv.erode(mask, kernel)\n",
    "  dilated = cv.dilate(mask, kernel)\n",
    "  \n",
    "  SF_region = eroded\n",
    "  WF_region = cv.bitwise_and(mask, cv.bitwise_not(eroded))\n",
    "  WB_region = cv.bitwise_and(dilated, cv.bitwise_not(mask))\n",
    "  SB_region = cv.bitwise_not(dilated)\n",
    "  \n",
    "  all_regions = np.zeros_like(mask)\n",
    "\n",
    "  all_regions[np.where(WF_region>0)] = Region.WF.value\n",
    "  all_regions[np.where(SF_region>0)] = Region.SF.value\n",
    "  all_regions[np.where(WB_region > 0)] = Region.WB.value\n",
    "  all_regions[np.where(SB_region > 0)] = Region.SB.value\n",
    "\n",
    "  \n",
    "  return all_regions\n",
    "\n",
    "def get_all_different_regions(masks, kernel_size=(5,5)):\n",
    "  if len(masks.shape) > 3:\n",
    "    masks = masks[:,:,:,0]\n",
    "    \n",
    "  all_masks_with_regions = masks.copy()\n",
    "  for i in range(masks.shape[0]):\n",
    "    mask = masks[i]\n",
    "    all_masks_with_regions[i] = get_image_different_regions(mask, kernel_size=kernel_size)\n",
    "  return all_masks_with_regions"
   ]
  },
  {
   "cell_type": "code",
   "execution_count": 21,
   "metadata": {
    "ExecuteTime": {
     "end_time": "2019-06-21T14:01:11.339510Z",
     "start_time": "2019-06-21T14:01:08.660569Z"
    },
    "colab": {},
    "colab_type": "code",
    "hidden": true,
    "id": "OECqpQ2nXZlF"
   },
   "outputs": [],
   "source": [
    "all_masks_with_regions = get_all_different_regions(masks, kernel_size=(5,5))"
   ]
  },
  {
   "cell_type": "code",
   "execution_count": 22,
   "metadata": {
    "ExecuteTime": {
     "end_time": "2019-06-21T14:01:11.908990Z",
     "start_time": "2019-06-21T14:01:11.341301Z"
    },
    "colab": {
     "base_uri": "https://localhost:8080/",
     "height": 233
    },
    "colab_type": "code",
    "hidden": true,
    "id": "wajGenoKbOWs",
    "outputId": "8fdaf06c-ef7f-4da5-f02f-d22789e817b4"
   },
   "outputs": [
    {
     "data": {
      "text/plain": [
       "<matplotlib.image.AxesImage at 0x7f55ce615a90>"
      ]
     },
     "execution_count": 22,
     "metadata": {},
     "output_type": "execute_result"
    },
    {
     "data": {
      "image/png": "[encoded data removed]",
      "text/plain": [
       "<Figure size 720x720 with 3 Axes>"
      ]
     },
     "metadata": {},
     "output_type": "display_data"
    }
   ],
   "source": [
    "fig, axs = plt.subplots(1, 3, figsize=(10,10))\n",
    "idx = 6262\n",
    "axs[0].imshow(images[idx])\n",
    "axs[1].imshow(masks[idx], cmap='gray')\n",
    "axs[2].imshow(all_masks_with_regions[idx], cmap='hot')"
   ]
  },
  {
   "cell_type": "markdown",
   "metadata": {
    "colab_type": "text",
    "id": "FnFjS9iQdZSX"
   },
   "source": [
    "# Initial Seed Generation"
   ]
  },
  {
   "cell_type": "code",
   "execution_count": 23,
   "metadata": {
    "ExecuteTime": {
     "end_time": "2019-06-21T14:01:11.916973Z",
     "start_time": "2019-06-21T14:01:11.910891Z"
    },
    "colab": {},
    "colab_type": "code",
    "id": "MCsh9dyQbEPE"
   },
   "outputs": [],
   "source": [
    "def get_random_pixels(idxs, count):\n",
    "  count_idxs = idxs[0].shape[0]\n",
    "  index_indices = np.arange(count_idxs)\n",
    "  if count_idxs < count:\n",
    "    index_indices = np.random.choice(index_indices, count)\n",
    "  chosen_indices = np.random.permutation(index_indices)[:count]\n",
    "  chosen_pixels  = np.array([idxs[0][chosen_indices], idxs[1][chosen_indices]])\n",
    "  return chosen_pixels.T\n",
    "  \n",
    "def generate_initial_seeds(all_masks_with_regions, num_sets=5):\n",
    "  initial_foreground_seeds = np.empty((10000, num_sets, 2))\n",
    "  initial_background_seeds = np.empty((10000, num_sets, 2))\n",
    "  for i in range(all_masks_with_regions.shape[0]):\n",
    "    mask_with_regns = all_masks_with_regions[i]\n",
    "    strong_foreground_region = np.where(mask_with_regns == Region.SF.value)\n",
    "    if strong_foreground_region[0].shape[0] == 0:\n",
    "      strong_foreground_region = np.where(mask_with_regns == Region.WF.value)\n",
    "    initial_foreground_seeds[i] = get_random_pixels(strong_foreground_region, num_sets)\n",
    "    \n",
    "    strong_background_region = np.where(mask_with_regns == Region.SB.value)\n",
    "    initial_background_seeds[i] = get_random_pixels(strong_background_region, num_sets)\n",
    "    \n",
    "  return initial_foreground_seeds, initial_background_seeds"
   ]
  },
  {
   "cell_type": "code",
   "execution_count": 24,
   "metadata": {
    "ExecuteTime": {
     "end_time": "2019-06-21T14:01:15.742405Z",
     "start_time": "2019-06-21T14:01:13.353541Z"
    },
    "colab": {},
    "colab_type": "code",
    "id": "55-135oWgCFs"
   },
   "outputs": [],
   "source": [
    "initial_foreground_seeds, initial_background_seeds = generate_initial_seeds(all_masks_with_regions)"
   ]
  },
  {
   "cell_type": "code",
   "execution_count": 25,
   "metadata": {
    "ExecuteTime": {
     "end_time": "2019-06-21T14:01:16.489813Z",
     "start_time": "2019-06-21T14:01:15.744412Z"
    },
    "colab": {
     "base_uri": "https://localhost:8080/",
     "height": 315
    },
    "colab_type": "code",
    "id": "AC72bB4wgE9A",
    "outputId": "8be8b955-bac6-4ec9-f906-4d7c27ee2f12"
   },
   "outputs": [
    {
     "data": {
      "text/plain": [
       "<matplotlib.collections.PathCollection at 0x7f55ce4640f0>"
      ]
     },
     "execution_count": 25,
     "metadata": {},
     "output_type": "execute_result"
    },
    {
     "data": {
      "image/png": "[encoded data removed]",
      "text/plain": [
       "<Figure size 1080x1080 with 3 Axes>"
      ]
     },
     "metadata": {},
     "output_type": "display_data"
    }
   ],
   "source": [
    "fig, axs = plt.subplots(1, 3, figsize=(15,15))\n",
    "idx = 6262\n",
    "axs[0].imshow(images[idx])\n",
    "axs[1].imshow(masks[idx], cmap='gray')\n",
    "axs[2].imshow(all_masks_with_regions[idx], cmap='hot')\n",
    "axs[2].scatter(initial_foreground_seeds[idx, :, 1], initial_foreground_seeds[idx, :, 0], c='g')\n",
    "axs[2].scatter(initial_background_seeds[idx, :, 1], initial_background_seeds[idx, :, 0], c='r')"
   ]
  },
  {
   "cell_type": "code",
   "execution_count": 26,
   "metadata": {
    "ExecuteTime": {
     "end_time": "2019-06-21T14:01:16.495906Z",
     "start_time": "2019-06-21T14:01:16.491617Z"
    },
    "colab": {
     "base_uri": "https://localhost:8080/",
     "height": 34
    },
    "colab_type": "code",
    "id": "6zaixynxZbKX",
    "outputId": "1f067195-6b2c-44c8-f0c9-2edddeec84c6"
   },
   "outputs": [
    {
     "data": {
      "text/plain": [
       "(array([26., 58., 47., 46., 23.]), array([18., 23., 13., 29., 27.]))"
      ]
     },
     "execution_count": 26,
     "metadata": {},
     "output_type": "execute_result"
    }
   ],
   "source": [
    "initial_foreground_seeds[idx, :, 1], initial_foreground_seeds[idx, :, 0]"
   ]
  },
  {
   "cell_type": "markdown",
   "metadata": {
    "colab_type": "text",
    "id": "diy1_9G2HoQ6"
   },
   "source": [
    "#Model"
   ]
  },
  {
   "cell_type": "code",
   "execution_count": 0,
   "metadata": {
    "colab": {},
    "colab_type": "code",
    "id": "JxRWRBntW74E"
   },
   "outputs": [],
   "source": [
    "def calculate_reward_exp(gt_mask, pred_mask, k):\n",
    "  IoU = calculate_IoU(gt_mask, pred_mask)\n",
    "  \n",
    "  return (np.exp(k * IoU) - 1) / (np.exp(k) - 1)\n",
    "\n",
    "def calculate_reward(gt_mask_with_regions, seed_location, seed_type, gt_mask, pred_mask, k):\n",
    "  reward_exp = calculate_reward_exp(gt_mask, pred_mask, k)\n",
    "  reward = -1\n",
    "  \n",
    "  gt_type = gt_mask_with_regions[seed_location]\n",
    "  \n",
    "  if seed_type == Seed.F:\n",
    "    \n",
    "    if gt_type == Seed.SF.val:\n",
    "      reward = reward_exp\n",
    "    \n",
    "    elif gt_type == Seed.WF.val:\n",
    "      reward = reward_exp - 1  \n",
    "  \n",
    "  elif seed_type == Seed.B:\n",
    "    if gt_type == Seed.SB.val:\n",
    "      reward = reward_exp\n",
    "  \n",
    "    elif gt_type == Seed.WB.val:\n",
    "      reward = reward_exp - 1\n",
    "    \n",
    "  return reward\n",
    "  "
   ]
  },
  {
   "cell_type": "code",
   "execution_count": 0,
   "metadata": {
    "colab": {},
    "colab_type": "code",
    "id": "8YqLp_I0HpHS"
   },
   "outputs": [],
   "source": [
    "import torch\n",
    "import torch.nn as nn\n",
    "import torch.nn.functional as F"
   ]
  },
  {
   "cell_type": "code",
   "execution_count": 0,
   "metadata": {
    "colab": {},
    "colab_type": "code",
    "id": "klQqTbnBIZgD"
   },
   "outputs": [],
   "source": [
    "class DQN(nn.Module):\n",
    "  def __init__(self):\n",
    "    super(DQN, self).__init__()\n",
    "    \n",
    "    self.conv1 = nn.Conv2d(4,  32,  8, 4)\n",
    "    self.conv2 = nn.Conv2d(32, 64,  4, 2)\n",
    "    self.conv3 = nn.Conv2d(64, 64,  3, 1)\n",
    "    self.conv4 = nn.Conv2d(64, 512, 7, 1)\n",
    "    \n",
    "    self.state_value = nn.Linear(256, 1)\n",
    "    self.advantage_fn = nn.Linear(256, 800)\n",
    "    self.output = nn.Linear(801, 800)\n",
    "    \n",
    "  def forward(self, x):\n",
    "    x = self.conv1(x)\n",
    "    x = F.relu(x)\n",
    "    x = self.conv2(x)\n",
    "    x = F.relu(x)\n",
    "    x = self.conv3(x)\n",
    "    x = F.relu(x)\n",
    "    x = self.conv4(x)\n",
    "    x = F.relu(x)\n",
    "    \n",
    "    value_input = x[:, :256, 0, 0]\n",
    "    advantage_input = x[:,256:, 0, 0]\n",
    "    \n",
    "    value_output = self.state_value(value_input)\n",
    "    advantage_output = self.advantage_fn(advantage_input)\n",
    "    print(value_output.shape, advantage_output.shape)\n",
    "    \n",
    "    pre_output = torch.cat((value_output, advantage_output), 1)\n",
    "    return self.output(pre_output)"
   ]
  },
  {
   "cell_type": "code",
   "execution_count": 0,
   "metadata": {
    "colab": {
     "base_uri": "https://localhost:8080/",
     "height": 231
    },
    "colab_type": "code",
    "id": "5FWFCd5oWEGi",
    "outputId": "e1abb21b-c1df-4fae-e835-194fa1241843"
   },
   "outputs": [
    {
     "ename": "IndexError",
     "evalue": "ignored",
     "output_type": "error",
     "traceback": [
      "\u001b[0;31m---------------------------------------------------------------------------\u001b[0m",
      "\u001b[0;31mIndexError\u001b[0m                                Traceback (most recent call last)",
      "\u001b[0;32m<ipython-input-15-9dab1dc74f86>\u001b[0m in \u001b[0;36m<module>\u001b[0;34m()\u001b[0m\n\u001b[1;32m      1\u001b[0m \u001b[0msamples\u001b[0m \u001b[0;34m=\u001b[0m \u001b[0mnp\u001b[0m\u001b[0;34m.\u001b[0m\u001b[0mempty\u001b[0m\u001b[0;34m(\u001b[0m\u001b[0;34m(\u001b[0m\u001b[0;36m10\u001b[0m\u001b[0;34m,\u001b[0m \u001b[0;36m84\u001b[0m\u001b[0;34m,\u001b[0m\u001b[0;36m84\u001b[0m\u001b[0;34m,\u001b[0m\u001b[0;36m4\u001b[0m\u001b[0;34m)\u001b[0m\u001b[0;34m)\u001b[0m\u001b[0;34m\u001b[0m\u001b[0;34m\u001b[0m\u001b[0m\n\u001b[1;32m      2\u001b[0m \u001b[0msamples\u001b[0m\u001b[0;34m[\u001b[0m\u001b[0;36m0\u001b[0m\u001b[0;34m:\u001b[0m\u001b[0;36m9\u001b[0m\u001b[0;34m,\u001b[0m\u001b[0;34m:\u001b[0m\u001b[0;34m,\u001b[0m\u001b[0;34m:\u001b[0m\u001b[0;34m,\u001b[0m\u001b[0;34m:\u001b[0m\u001b[0;36m3\u001b[0m\u001b[0;34m]\u001b[0m \u001b[0;34m=\u001b[0m \u001b[0mimages\u001b[0m\u001b[0;34m[\u001b[0m\u001b[0;36m0\u001b[0m\u001b[0;34m:\u001b[0m\u001b[0;36m9\u001b[0m\u001b[0;34m]\u001b[0m\u001b[0;34m\u001b[0m\u001b[0;34m\u001b[0m\u001b[0m\n\u001b[0;32m----> 3\u001b[0;31m \u001b[0msamples\u001b[0m\u001b[0;34m[\u001b[0m\u001b[0;36m9\u001b[0m\u001b[0;34m,\u001b[0m\u001b[0;34m:\u001b[0m\u001b[0;34m,\u001b[0m\u001b[0;34m:\u001b[0m\u001b[0;34m,\u001b[0m\u001b[0;36m3\u001b[0m\u001b[0;34m]\u001b[0m  \u001b[0;34m=\u001b[0m \u001b[0mmasks\u001b[0m\u001b[0;34m[\u001b[0m\u001b[0;36m9\u001b[0m\u001b[0;34m]\u001b[0m\u001b[0;34m[\u001b[0m\u001b[0;34m:\u001b[0m\u001b[0;34m,\u001b[0m\u001b[0;34m:\u001b[0m\u001b[0;34m,\u001b[0m\u001b[0;36m0\u001b[0m\u001b[0;34m]\u001b[0m\u001b[0;34m\u001b[0m\u001b[0;34m\u001b[0m\u001b[0m\n\u001b[0m\u001b[1;32m      4\u001b[0m \u001b[0msamples\u001b[0m \u001b[0;34m=\u001b[0m \u001b[0mnp\u001b[0m\u001b[0;34m.\u001b[0m\u001b[0mswapaxes\u001b[0m\u001b[0;34m(\u001b[0m\u001b[0msamples\u001b[0m\u001b[0;34m,\u001b[0m \u001b[0;36m1\u001b[0m\u001b[0;34m,\u001b[0m \u001b[0;36m3\u001b[0m\u001b[0;34m)\u001b[0m\u001b[0;34m\u001b[0m\u001b[0;34m\u001b[0m\u001b[0m\n\u001b[1;32m      5\u001b[0m \u001b[0msamples\u001b[0m\u001b[0;34m.\u001b[0m\u001b[0mshape\u001b[0m\u001b[0;34m\u001b[0m\u001b[0;34m\u001b[0m\u001b[0m\n",
      "\u001b[0;31mIndexError\u001b[0m: too many indices for array"
     ]
    }
   ],
   "source": [
    "samples = np.empty((10, 84,84,4))\n",
    "samples[0:9,:,:,:3] = images[0:9]\n",
    "samples[9,:,:,3]  = masks[9][:,:,0]\n",
    "samples = np.swapaxes(samples, 1, 3)\n",
    "samples.shape"
   ]
  },
  {
   "cell_type": "code",
   "execution_count": 0,
   "metadata": {
    "colab": {
     "base_uri": "https://localhost:8080/",
     "height": 527
    },
    "colab_type": "code",
    "id": "dDsq2AkcWSmE",
    "outputId": "c2b4a882-df6c-42a5-a6f0-d310653684d1"
   },
   "outputs": [
    {
     "name": "stdout",
     "output_type": "stream",
     "text": [
      "DQN(\n",
      "  (conv1): Conv2d(4, 32, kernel_size=(8, 8), stride=(4, 4))\n",
      "  (conv2): Conv2d(32, 64, kernel_size=(4, 4), stride=(2, 2))\n",
      "  (conv3): Conv2d(64, 64, kernel_size=(3, 3), stride=(1, 1))\n",
      "  (conv4): Conv2d(64, 512, kernel_size=(7, 7), stride=(1, 1))\n",
      "  (state_value): Linear(in_features=256, out_features=1, bias=True)\n",
      "  (advantage_fn): Linear(in_features=256, out_features=800, bias=True)\n",
      "  (output): Linear(in_features=801, out_features=800, bias=True)\n",
      ")\n"
     ]
    },
    {
     "ename": "RuntimeError",
     "evalue": "ignored",
     "output_type": "error",
     "traceback": [
      "\u001b[0;31m---------------------------------------------------------------------------\u001b[0m",
      "\u001b[0;31mRuntimeError\u001b[0m                              Traceback (most recent call last)",
      "\u001b[0;32m<ipython-input-16-3f32f2366980>\u001b[0m in \u001b[0;36m<module>\u001b[0;34m()\u001b[0m\n\u001b[1;32m      2\u001b[0m \u001b[0mprint\u001b[0m\u001b[0;34m(\u001b[0m\u001b[0mmodel\u001b[0m\u001b[0;34m)\u001b[0m\u001b[0;34m\u001b[0m\u001b[0;34m\u001b[0m\u001b[0m\n\u001b[1;32m      3\u001b[0m \u001b[0mmodel\u001b[0m \u001b[0;34m=\u001b[0m \u001b[0mmodel\u001b[0m\u001b[0;34m.\u001b[0m\u001b[0mdouble\u001b[0m\u001b[0;34m(\u001b[0m\u001b[0;34m)\u001b[0m\u001b[0;34m\u001b[0m\u001b[0;34m\u001b[0m\u001b[0m\n\u001b[0;32m----> 4\u001b[0;31m \u001b[0mout\u001b[0m \u001b[0;34m=\u001b[0m \u001b[0mmodel\u001b[0m\u001b[0;34m.\u001b[0m\u001b[0mforward\u001b[0m\u001b[0;34m(\u001b[0m\u001b[0mtorch\u001b[0m\u001b[0;34m.\u001b[0m\u001b[0mfrom_numpy\u001b[0m\u001b[0;34m(\u001b[0m\u001b[0msamples\u001b[0m\u001b[0;34m)\u001b[0m\u001b[0;34m)\u001b[0m\u001b[0;34m\u001b[0m\u001b[0;34m\u001b[0m\u001b[0m\n\u001b[0m\u001b[1;32m      5\u001b[0m \u001b[0mpred\u001b[0m \u001b[0;34m=\u001b[0m \u001b[0mout\u001b[0m\u001b[0;34m[\u001b[0m\u001b[0;36m0\u001b[0m\u001b[0;34m]\u001b[0m\u001b[0;34m.\u001b[0m\u001b[0margmax\u001b[0m\u001b[0;34m(\u001b[0m\u001b[0;34m)\u001b[0m\u001b[0;34m\u001b[0m\u001b[0;34m\u001b[0m\u001b[0m\n\u001b[1;32m      6\u001b[0m \u001b[0mprint\u001b[0m\u001b[0;34m(\u001b[0m\u001b[0mpred\u001b[0m\u001b[0;34m)\u001b[0m\u001b[0;34m\u001b[0m\u001b[0;34m\u001b[0m\u001b[0m\n",
      "\u001b[0;32m<ipython-input-13-99c75fb27ff3>\u001b[0m in \u001b[0;36mforward\u001b[0;34m(self, x)\u001b[0m\n\u001b[1;32m     13\u001b[0m \u001b[0;34m\u001b[0m\u001b[0m\n\u001b[1;32m     14\u001b[0m   \u001b[0;32mdef\u001b[0m \u001b[0mforward\u001b[0m\u001b[0;34m(\u001b[0m\u001b[0mself\u001b[0m\u001b[0;34m,\u001b[0m \u001b[0mx\u001b[0m\u001b[0;34m)\u001b[0m\u001b[0;34m:\u001b[0m\u001b[0;34m\u001b[0m\u001b[0;34m\u001b[0m\u001b[0m\n\u001b[0;32m---> 15\u001b[0;31m     \u001b[0mx\u001b[0m \u001b[0;34m=\u001b[0m \u001b[0mself\u001b[0m\u001b[0;34m.\u001b[0m\u001b[0mconv1\u001b[0m\u001b[0;34m(\u001b[0m\u001b[0mx\u001b[0m\u001b[0;34m)\u001b[0m\u001b[0;34m\u001b[0m\u001b[0;34m\u001b[0m\u001b[0m\n\u001b[0m\u001b[1;32m     16\u001b[0m     \u001b[0mx\u001b[0m \u001b[0;34m=\u001b[0m \u001b[0mF\u001b[0m\u001b[0;34m.\u001b[0m\u001b[0mrelu\u001b[0m\u001b[0;34m(\u001b[0m\u001b[0mx\u001b[0m\u001b[0;34m)\u001b[0m\u001b[0;34m\u001b[0m\u001b[0;34m\u001b[0m\u001b[0m\n\u001b[1;32m     17\u001b[0m     \u001b[0mx\u001b[0m \u001b[0;34m=\u001b[0m \u001b[0mself\u001b[0m\u001b[0;34m.\u001b[0m\u001b[0mconv2\u001b[0m\u001b[0;34m(\u001b[0m\u001b[0mx\u001b[0m\u001b[0;34m)\u001b[0m\u001b[0;34m\u001b[0m\u001b[0;34m\u001b[0m\u001b[0m\n",
      "\u001b[0;32m/usr/local/lib/python3.6/dist-packages/torch/nn/modules/module.py\u001b[0m in \u001b[0;36m__call__\u001b[0;34m(self, *input, **kwargs)\u001b[0m\n\u001b[1;32m    491\u001b[0m             \u001b[0mresult\u001b[0m \u001b[0;34m=\u001b[0m \u001b[0mself\u001b[0m\u001b[0;34m.\u001b[0m\u001b[0m_slow_forward\u001b[0m\u001b[0;34m(\u001b[0m\u001b[0;34m*\u001b[0m\u001b[0minput\u001b[0m\u001b[0;34m,\u001b[0m \u001b[0;34m**\u001b[0m\u001b[0mkwargs\u001b[0m\u001b[0;34m)\u001b[0m\u001b[0;34m\u001b[0m\u001b[0;34m\u001b[0m\u001b[0m\n\u001b[1;32m    492\u001b[0m         \u001b[0;32melse\u001b[0m\u001b[0;34m:\u001b[0m\u001b[0;34m\u001b[0m\u001b[0;34m\u001b[0m\u001b[0m\n\u001b[0;32m--> 493\u001b[0;31m             \u001b[0mresult\u001b[0m \u001b[0;34m=\u001b[0m \u001b[0mself\u001b[0m\u001b[0;34m.\u001b[0m\u001b[0mforward\u001b[0m\u001b[0;34m(\u001b[0m\u001b[0;34m*\u001b[0m\u001b[0minput\u001b[0m\u001b[0;34m,\u001b[0m \u001b[0;34m**\u001b[0m\u001b[0mkwargs\u001b[0m\u001b[0;34m)\u001b[0m\u001b[0;34m\u001b[0m\u001b[0;34m\u001b[0m\u001b[0m\n\u001b[0m\u001b[1;32m    494\u001b[0m         \u001b[0;32mfor\u001b[0m \u001b[0mhook\u001b[0m \u001b[0;32min\u001b[0m \u001b[0mself\u001b[0m\u001b[0;34m.\u001b[0m\u001b[0m_forward_hooks\u001b[0m\u001b[0;34m.\u001b[0m\u001b[0mvalues\u001b[0m\u001b[0;34m(\u001b[0m\u001b[0;34m)\u001b[0m\u001b[0;34m:\u001b[0m\u001b[0;34m\u001b[0m\u001b[0;34m\u001b[0m\u001b[0m\n\u001b[1;32m    495\u001b[0m             \u001b[0mhook_result\u001b[0m \u001b[0;34m=\u001b[0m \u001b[0mhook\u001b[0m\u001b[0;34m(\u001b[0m\u001b[0mself\u001b[0m\u001b[0;34m,\u001b[0m \u001b[0minput\u001b[0m\u001b[0;34m,\u001b[0m \u001b[0mresult\u001b[0m\u001b[0;34m)\u001b[0m\u001b[0;34m\u001b[0m\u001b[0;34m\u001b[0m\u001b[0m\n",
      "\u001b[0;32m/usr/local/lib/python3.6/dist-packages/torch/nn/modules/conv.py\u001b[0m in \u001b[0;36mforward\u001b[0;34m(self, input)\u001b[0m\n\u001b[1;32m    336\u001b[0m                             _pair(0), self.dilation, self.groups)\n\u001b[1;32m    337\u001b[0m         return F.conv2d(input, self.weight, self.bias, self.stride,\n\u001b[0;32m--> 338\u001b[0;31m                         self.padding, self.dilation, self.groups)\n\u001b[0m\u001b[1;32m    339\u001b[0m \u001b[0;34m\u001b[0m\u001b[0m\n\u001b[1;32m    340\u001b[0m \u001b[0;34m\u001b[0m\u001b[0m\n",
      "\u001b[0;31mRuntimeError\u001b[0m: Given groups=1, weight of size 32 4 8 8, expected input[10, 84, 84, 4] to have 4 channels, but got 84 channels instead"
     ]
    }
   ],
   "source": [
    "model = DQN()\n",
    "print(model)\n",
    "model = model.double()\n",
    "out = model.forward(torch.from_numpy(samples))\n",
    "pred = out[0].argmax()\n",
    "print(pred)"
   ]
  },
  {
   "cell_type": "code",
   "execution_count": 0,
   "metadata": {
    "colab": {},
    "colab_type": "code",
    "id": "d8p97D-QWXzl"
   },
   "outputs": [],
   "source": []
  }
 ],
 "metadata": {
  "colab": {
   "collapsed_sections": [
    "-PUlr29BwQo7",
    "_3NizssxzytC",
    "MnMrVJ_zz0tn",
    "_JSHLD3cQTzc",
    "2gGaZQNLjfgm",
    "76eQmvvYaTTf",
    "gmBOZ8Y5WfmZ",
    "FnFjS9iQdZSX",
    "diy1_9G2HoQ6"
   ],
   "name": "SeedNet.ipynb",
   "provenance": [],
   "version": "0.3.2"
  },
  "kernelspec": {
   "display_name": "Python 3",
   "language": "python",
   "name": "python3"
  },
  "language_info": {
   "codemirror_mode": {
    "name": "ipython",
    "version": 3
   },
   "file_extension": ".py",
   "mimetype": "text/x-python",
   "name": "python",
   "nbconvert_exporter": "python",
   "pygments_lexer": "ipython3",
   "version": "3.6.5"
  }
 },
 "nbformat": 4,
 "nbformat_minor": 1
}
